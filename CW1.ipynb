{
  "nbformat": 4,
  "nbformat_minor": 0,
  "metadata": {
    "colab": {
      "name": "CW1.ipynb",
      "provenance": [],
      "collapsed_sections": [],
      "include_colab_link": true
    },
    "kernelspec": {
      "name": "python3",
      "display_name": "Python 3"
    },
    "language_info": {
      "name": "python"
    }
  },
  "cells": [
    {
      "cell_type": "markdown",
      "metadata": {
        "id": "view-in-github",
        "colab_type": "text"
      },
      "source": [
        "<a href=\"https://colab.research.google.com/github/jamesbrowne98/jamesbrowne98/blob/main/CW1.ipynb\" target=\"_parent\"><img src=\"https://colab.research.google.com/assets/colab-badge.svg\" alt=\"Open In Colab\"/></a>"
      ]
    },
    {
      "cell_type": "code",
      "execution_count": 1,
      "metadata": {
        "id": "-8auguNkXfEN"
      },
      "outputs": [],
      "source": [
        "import numpy as np\n",
        "import pandas as pd\n",
        "import io\n",
        "from google.colab import files\n",
        "import matplotlib.pyplot as plt\n",
        "from sklearn.datasets import load_digits\n",
        "from sklearn.neural_network import MLPClassifier\n",
        "from sklearn.metrics import confusion_matrix\n",
        "import matplotlib.pyplot as plt"
      ]
    },
    {
      "cell_type": "markdown",
      "source": [
        ""
      ],
      "metadata": {
        "id": "JAw8EZLffJ1N"
      }
    },
    {
      "cell_type": "code",
      "source": [
        "data = pd.read_excel(\"ENB2012_data.xlsx\")\n",
        "print(data)"
      ],
      "metadata": {
        "colab": {
          "base_uri": "https://localhost:8080/"
        },
        "id": "au_fEgPDoXG-",
        "outputId": "9a7f6df1-65d9-481f-e0e1-2e4005ace428"
      },
      "execution_count": 2,
      "outputs": [
        {
          "output_type": "stream",
          "name": "stdout",
          "text": [
            "       X1     X2     X3      X4   X5  X6   X7  X8     Y1     Y2\n",
            "0    0.98  514.5  294.0  110.25  7.0   2  0.0   0  15.55  21.33\n",
            "1    0.98  514.5  294.0  110.25  7.0   3  0.0   0  15.55  21.33\n",
            "2    0.98  514.5  294.0  110.25  7.0   4  0.0   0  15.55  21.33\n",
            "3    0.98  514.5  294.0  110.25  7.0   5  0.0   0  15.55  21.33\n",
            "4    0.90  563.5  318.5  122.50  7.0   2  0.0   0  20.84  28.28\n",
            "..    ...    ...    ...     ...  ...  ..  ...  ..    ...    ...\n",
            "763  0.64  784.0  343.0  220.50  3.5   5  0.4   5  17.88  21.40\n",
            "764  0.62  808.5  367.5  220.50  3.5   2  0.4   5  16.54  16.88\n",
            "765  0.62  808.5  367.5  220.50  3.5   3  0.4   5  16.44  17.11\n",
            "766  0.62  808.5  367.5  220.50  3.5   4  0.4   5  16.48  16.61\n",
            "767  0.62  808.5  367.5  220.50  3.5   5  0.4   5  16.64  16.03\n",
            "\n",
            "[768 rows x 10 columns]\n"
          ]
        }
      ]
    },
    {
      "cell_type": "code",
      "source": [
        "from sklearn import preprocessing\n",
        "from sklearn.preprocessing import MinMaxScaler\n",
        "\n",
        "\n",
        "inputs = data.values[:,:8].astype(float)\n",
        "targets = data.values[:,8:].astype(float)\n",
        "print(np.shape(inputs))\n",
        "\n",
        "#Normalize the inputs\n",
        "scaler = MinMaxScaler()\n",
        "scaled_inputs = scaler.fit_transform(inputs)\n",
        "scaled_targets = scaler.fit_transform(targets)\n",
        "\n",
        "print(scaled_inputs)\n",
        "print(scaled_targets)\n",
        "\n"
      ],
      "metadata": {
        "colab": {
          "base_uri": "https://localhost:8080/"
        },
        "id": "O68LcnljEu8f",
        "outputId": "cdfc409b-c328-4ae9-c3af-a15486a50516"
      },
      "execution_count": 3,
      "outputs": [
        {
          "output_type": "stream",
          "name": "stdout",
          "text": [
            "(768, 8)\n",
            "[[1.         0.         0.28571429 ... 0.         0.         0.        ]\n",
            " [1.         0.         0.28571429 ... 0.33333333 0.         0.        ]\n",
            " [1.         0.         0.28571429 ... 0.66666667 0.         0.        ]\n",
            " ...\n",
            " [0.         1.         0.71428571 ... 0.33333333 1.         1.        ]\n",
            " [0.         1.         0.71428571 ... 0.66666667 1.         1.        ]\n",
            " [0.         1.         0.71428571 ... 1.         1.         1.        ]]\n",
            "[[0.25721219 0.28090493]\n",
            " [0.25721219 0.28090493]\n",
            " [0.25721219 0.28090493]\n",
            " ...\n",
            " [0.28120787 0.1672502 ]\n",
            " [0.28228633 0.153784  ]\n",
            " [0.28660016 0.13816321]]\n"
          ]
        }
      ]
    },
    {
      "cell_type": "markdown",
      "source": [
        "Random Forest Regressor"
      ],
      "metadata": {
        "id": "CcyVIVIf8lEw"
      }
    },
    {
      "cell_type": "code",
      "source": [
        "from sklearn.ensemble import RandomForestRegressor\n",
        "regressor = RandomForestRegressor()\n",
        "regressor.fit(scaled_inputs, scaled_targets)\n",
        "outputs = regressor.predict(scaled_inputs)\n",
        "print(\"Random Forest Regressor: \\n\", outputs)"
      ],
      "metadata": {
        "colab": {
          "base_uri": "https://localhost:8080/"
        },
        "id": "vOY0l5J2oqRh",
        "outputId": "0cdda5a9-3c38-4f9f-a8f7-9c152e8d7a7f"
      },
      "execution_count": 4,
      "outputs": [
        {
          "output_type": "stream",
          "name": "stdout",
          "text": [
            "Random Forest Regressor: \n",
            " [[0.26378808 0.28895502]\n",
            " [0.26158533 0.28325882]\n",
            " [0.26101645 0.28354969]\n",
            " ...\n",
            " [0.28326503 0.16381901]\n",
            " [0.28473443 0.15192028]\n",
            " [0.28668644 0.14442769]]\n"
          ]
        }
      ]
    },
    {
      "cell_type": "markdown",
      "source": [
        "MLP Regressor"
      ],
      "metadata": {
        "id": "pBfIoOEVC8pL"
      }
    },
    {
      "cell_type": "code",
      "source": [
        "from sklearn.neural_network import MLPRegressor\n",
        "regressor_NN = MLPRegressor(max_iter=5000)\n",
        "regressor_NN.fit(scaled_inputs, scaled_targets)\n",
        "outputs = regressor_NN.predict(scaled_inputs)\n",
        "print(\"MLP Regressor: \\n\", outputs)\n"
      ],
      "metadata": {
        "colab": {
          "base_uri": "https://localhost:8080/"
        },
        "id": "eIs9ktkC8ygs",
        "outputId": "362fdd8c-287a-4338-cd2a-0c8f030e5ba2"
      },
      "execution_count": 5,
      "outputs": [
        {
          "output_type": "stream",
          "name": "stdout",
          "text": [
            "MLP Regressor: \n",
            " [[0.35543496 0.37964474]\n",
            " [0.37564125 0.37019973]\n",
            " [0.39210525 0.36935634]\n",
            " ...\n",
            " [0.32392476 0.25736417]\n",
            " [0.33126876 0.24930778]\n",
            " [0.34959274 0.25044455]]\n"
          ]
        }
      ]
    },
    {
      "cell_type": "markdown",
      "source": [
        "Support Vector Machine "
      ],
      "metadata": {
        "id": "xStTENN0ni57"
      }
    },
    {
      "cell_type": "code",
      "source": [
        "import numpy as np\n",
        "import matplotlib.pyplot as plt\n",
        "import pandas as pd\n",
        "\n",
        "df = pd.read_excel(\"ENB2012_data.xlsx\")\n",
        "df"
      ],
      "metadata": {
        "colab": {
          "base_uri": "https://localhost:8080/",
          "height": 424
        },
        "id": "Cq_CHoKhpKoe",
        "outputId": "25b42fe4-e761-42f3-afe3-474f0f559a7d"
      },
      "execution_count": 6,
      "outputs": [
        {
          "output_type": "execute_result",
          "data": {
            "text/plain": [
              "       X1     X2     X3      X4   X5  X6   X7  X8     Y1     Y2\n",
              "0    0.98  514.5  294.0  110.25  7.0   2  0.0   0  15.55  21.33\n",
              "1    0.98  514.5  294.0  110.25  7.0   3  0.0   0  15.55  21.33\n",
              "2    0.98  514.5  294.0  110.25  7.0   4  0.0   0  15.55  21.33\n",
              "3    0.98  514.5  294.0  110.25  7.0   5  0.0   0  15.55  21.33\n",
              "4    0.90  563.5  318.5  122.50  7.0   2  0.0   0  20.84  28.28\n",
              "..    ...    ...    ...     ...  ...  ..  ...  ..    ...    ...\n",
              "763  0.64  784.0  343.0  220.50  3.5   5  0.4   5  17.88  21.40\n",
              "764  0.62  808.5  367.5  220.50  3.5   2  0.4   5  16.54  16.88\n",
              "765  0.62  808.5  367.5  220.50  3.5   3  0.4   5  16.44  17.11\n",
              "766  0.62  808.5  367.5  220.50  3.5   4  0.4   5  16.48  16.61\n",
              "767  0.62  808.5  367.5  220.50  3.5   5  0.4   5  16.64  16.03\n",
              "\n",
              "[768 rows x 10 columns]"
            ],
            "text/html": [
              "\n",
              "  <div id=\"df-5410a805-22ab-4e3a-895b-bccdf21db5ff\">\n",
              "    <div class=\"colab-df-container\">\n",
              "      <div>\n",
              "<style scoped>\n",
              "    .dataframe tbody tr th:only-of-type {\n",
              "        vertical-align: middle;\n",
              "    }\n",
              "\n",
              "    .dataframe tbody tr th {\n",
              "        vertical-align: top;\n",
              "    }\n",
              "\n",
              "    .dataframe thead th {\n",
              "        text-align: right;\n",
              "    }\n",
              "</style>\n",
              "<table border=\"1\" class=\"dataframe\">\n",
              "  <thead>\n",
              "    <tr style=\"text-align: right;\">\n",
              "      <th></th>\n",
              "      <th>X1</th>\n",
              "      <th>X2</th>\n",
              "      <th>X3</th>\n",
              "      <th>X4</th>\n",
              "      <th>X5</th>\n",
              "      <th>X6</th>\n",
              "      <th>X7</th>\n",
              "      <th>X8</th>\n",
              "      <th>Y1</th>\n",
              "      <th>Y2</th>\n",
              "    </tr>\n",
              "  </thead>\n",
              "  <tbody>\n",
              "    <tr>\n",
              "      <th>0</th>\n",
              "      <td>0.98</td>\n",
              "      <td>514.5</td>\n",
              "      <td>294.0</td>\n",
              "      <td>110.25</td>\n",
              "      <td>7.0</td>\n",
              "      <td>2</td>\n",
              "      <td>0.0</td>\n",
              "      <td>0</td>\n",
              "      <td>15.55</td>\n",
              "      <td>21.33</td>\n",
              "    </tr>\n",
              "    <tr>\n",
              "      <th>1</th>\n",
              "      <td>0.98</td>\n",
              "      <td>514.5</td>\n",
              "      <td>294.0</td>\n",
              "      <td>110.25</td>\n",
              "      <td>7.0</td>\n",
              "      <td>3</td>\n",
              "      <td>0.0</td>\n",
              "      <td>0</td>\n",
              "      <td>15.55</td>\n",
              "      <td>21.33</td>\n",
              "    </tr>\n",
              "    <tr>\n",
              "      <th>2</th>\n",
              "      <td>0.98</td>\n",
              "      <td>514.5</td>\n",
              "      <td>294.0</td>\n",
              "      <td>110.25</td>\n",
              "      <td>7.0</td>\n",
              "      <td>4</td>\n",
              "      <td>0.0</td>\n",
              "      <td>0</td>\n",
              "      <td>15.55</td>\n",
              "      <td>21.33</td>\n",
              "    </tr>\n",
              "    <tr>\n",
              "      <th>3</th>\n",
              "      <td>0.98</td>\n",
              "      <td>514.5</td>\n",
              "      <td>294.0</td>\n",
              "      <td>110.25</td>\n",
              "      <td>7.0</td>\n",
              "      <td>5</td>\n",
              "      <td>0.0</td>\n",
              "      <td>0</td>\n",
              "      <td>15.55</td>\n",
              "      <td>21.33</td>\n",
              "    </tr>\n",
              "    <tr>\n",
              "      <th>4</th>\n",
              "      <td>0.90</td>\n",
              "      <td>563.5</td>\n",
              "      <td>318.5</td>\n",
              "      <td>122.50</td>\n",
              "      <td>7.0</td>\n",
              "      <td>2</td>\n",
              "      <td>0.0</td>\n",
              "      <td>0</td>\n",
              "      <td>20.84</td>\n",
              "      <td>28.28</td>\n",
              "    </tr>\n",
              "    <tr>\n",
              "      <th>...</th>\n",
              "      <td>...</td>\n",
              "      <td>...</td>\n",
              "      <td>...</td>\n",
              "      <td>...</td>\n",
              "      <td>...</td>\n",
              "      <td>...</td>\n",
              "      <td>...</td>\n",
              "      <td>...</td>\n",
              "      <td>...</td>\n",
              "      <td>...</td>\n",
              "    </tr>\n",
              "    <tr>\n",
              "      <th>763</th>\n",
              "      <td>0.64</td>\n",
              "      <td>784.0</td>\n",
              "      <td>343.0</td>\n",
              "      <td>220.50</td>\n",
              "      <td>3.5</td>\n",
              "      <td>5</td>\n",
              "      <td>0.4</td>\n",
              "      <td>5</td>\n",
              "      <td>17.88</td>\n",
              "      <td>21.40</td>\n",
              "    </tr>\n",
              "    <tr>\n",
              "      <th>764</th>\n",
              "      <td>0.62</td>\n",
              "      <td>808.5</td>\n",
              "      <td>367.5</td>\n",
              "      <td>220.50</td>\n",
              "      <td>3.5</td>\n",
              "      <td>2</td>\n",
              "      <td>0.4</td>\n",
              "      <td>5</td>\n",
              "      <td>16.54</td>\n",
              "      <td>16.88</td>\n",
              "    </tr>\n",
              "    <tr>\n",
              "      <th>765</th>\n",
              "      <td>0.62</td>\n",
              "      <td>808.5</td>\n",
              "      <td>367.5</td>\n",
              "      <td>220.50</td>\n",
              "      <td>3.5</td>\n",
              "      <td>3</td>\n",
              "      <td>0.4</td>\n",
              "      <td>5</td>\n",
              "      <td>16.44</td>\n",
              "      <td>17.11</td>\n",
              "    </tr>\n",
              "    <tr>\n",
              "      <th>766</th>\n",
              "      <td>0.62</td>\n",
              "      <td>808.5</td>\n",
              "      <td>367.5</td>\n",
              "      <td>220.50</td>\n",
              "      <td>3.5</td>\n",
              "      <td>4</td>\n",
              "      <td>0.4</td>\n",
              "      <td>5</td>\n",
              "      <td>16.48</td>\n",
              "      <td>16.61</td>\n",
              "    </tr>\n",
              "    <tr>\n",
              "      <th>767</th>\n",
              "      <td>0.62</td>\n",
              "      <td>808.5</td>\n",
              "      <td>367.5</td>\n",
              "      <td>220.50</td>\n",
              "      <td>3.5</td>\n",
              "      <td>5</td>\n",
              "      <td>0.4</td>\n",
              "      <td>5</td>\n",
              "      <td>16.64</td>\n",
              "      <td>16.03</td>\n",
              "    </tr>\n",
              "  </tbody>\n",
              "</table>\n",
              "<p>768 rows × 10 columns</p>\n",
              "</div>\n",
              "      <button class=\"colab-df-convert\" onclick=\"convertToInteractive('df-5410a805-22ab-4e3a-895b-bccdf21db5ff')\"\n",
              "              title=\"Convert this dataframe to an interactive table.\"\n",
              "              style=\"display:none;\">\n",
              "        \n",
              "  <svg xmlns=\"http://www.w3.org/2000/svg\" height=\"24px\"viewBox=\"0 0 24 24\"\n",
              "       width=\"24px\">\n",
              "    <path d=\"M0 0h24v24H0V0z\" fill=\"none\"/>\n",
              "    <path d=\"M18.56 5.44l.94 2.06.94-2.06 2.06-.94-2.06-.94-.94-2.06-.94 2.06-2.06.94zm-11 1L8.5 8.5l.94-2.06 2.06-.94-2.06-.94L8.5 2.5l-.94 2.06-2.06.94zm10 10l.94 2.06.94-2.06 2.06-.94-2.06-.94-.94-2.06-.94 2.06-2.06.94z\"/><path d=\"M17.41 7.96l-1.37-1.37c-.4-.4-.92-.59-1.43-.59-.52 0-1.04.2-1.43.59L10.3 9.45l-7.72 7.72c-.78.78-.78 2.05 0 2.83L4 21.41c.39.39.9.59 1.41.59.51 0 1.02-.2 1.41-.59l7.78-7.78 2.81-2.81c.8-.78.8-2.07 0-2.86zM5.41 20L4 18.59l7.72-7.72 1.47 1.35L5.41 20z\"/>\n",
              "  </svg>\n",
              "      </button>\n",
              "      \n",
              "  <style>\n",
              "    .colab-df-container {\n",
              "      display:flex;\n",
              "      flex-wrap:wrap;\n",
              "      gap: 12px;\n",
              "    }\n",
              "\n",
              "    .colab-df-convert {\n",
              "      background-color: #E8F0FE;\n",
              "      border: none;\n",
              "      border-radius: 50%;\n",
              "      cursor: pointer;\n",
              "      display: none;\n",
              "      fill: #1967D2;\n",
              "      height: 32px;\n",
              "      padding: 0 0 0 0;\n",
              "      width: 32px;\n",
              "    }\n",
              "\n",
              "    .colab-df-convert:hover {\n",
              "      background-color: #E2EBFA;\n",
              "      box-shadow: 0px 1px 2px rgba(60, 64, 67, 0.3), 0px 1px 3px 1px rgba(60, 64, 67, 0.15);\n",
              "      fill: #174EA6;\n",
              "    }\n",
              "\n",
              "    [theme=dark] .colab-df-convert {\n",
              "      background-color: #3B4455;\n",
              "      fill: #D2E3FC;\n",
              "    }\n",
              "\n",
              "    [theme=dark] .colab-df-convert:hover {\n",
              "      background-color: #434B5C;\n",
              "      box-shadow: 0px 1px 3px 1px rgba(0, 0, 0, 0.15);\n",
              "      filter: drop-shadow(0px 1px 2px rgba(0, 0, 0, 0.3));\n",
              "      fill: #FFFFFF;\n",
              "    }\n",
              "  </style>\n",
              "\n",
              "      <script>\n",
              "        const buttonEl =\n",
              "          document.querySelector('#df-5410a805-22ab-4e3a-895b-bccdf21db5ff button.colab-df-convert');\n",
              "        buttonEl.style.display =\n",
              "          google.colab.kernel.accessAllowed ? 'block' : 'none';\n",
              "\n",
              "        async function convertToInteractive(key) {\n",
              "          const element = document.querySelector('#df-5410a805-22ab-4e3a-895b-bccdf21db5ff');\n",
              "          const dataTable =\n",
              "            await google.colab.kernel.invokeFunction('convertToInteractive',\n",
              "                                                     [key], {});\n",
              "          if (!dataTable) return;\n",
              "\n",
              "          const docLinkHtml = 'Like what you see? Visit the ' +\n",
              "            '<a target=\"_blank\" href=https://colab.research.google.com/notebooks/data_table.ipynb>data table notebook</a>'\n",
              "            + ' to learn more about interactive tables.';\n",
              "          element.innerHTML = '';\n",
              "          dataTable['output_type'] = 'display_data';\n",
              "          await google.colab.output.renderOutput(dataTable, element);\n",
              "          const docLink = document.createElement('div');\n",
              "          docLink.innerHTML = docLinkHtml;\n",
              "          element.appendChild(docLink);\n",
              "        }\n",
              "      </script>\n",
              "    </div>\n",
              "  </div>\n",
              "  "
            ]
          },
          "metadata": {},
          "execution_count": 6
        }
      ]
    },
    {
      "cell_type": "code",
      "source": [
        "from sklearn.svm import SVR\n",
        "targetY1 = data[\"Y1\"]\n",
        "targetY2 = data[\"Y2\"]\n",
        "\n",
        "x = df.iloc[:, 1:2].values\n",
        "targetY1 = df.iloc[:, 2].values\n",
        "targetY2 = df.iloc[:, 2].values\n",
        "\n",
        "from sklearn.preprocessing import StandardScaler\n",
        "sc_x = StandardScaler()\n",
        "sc_y = StandardScaler()\n",
        "x = sc_x.fit_transform(x)\n"
      ],
      "metadata": {
        "id": "56KQPetGpr0_"
      },
      "execution_count": 68,
      "outputs": []
    },
    {
      "cell_type": "code",
      "source": [
        "from sklearn.svm import SVR\n",
        "regressor_svm = SVR(kernel = 'rbf')\n",
        "regressor_svm2 = SVR(kernel = 'rbf')\n",
        "regressor_svm.fit(x,targetY1)\n",
        "regressor_svm2.fit(x,targetY2)"
      ],
      "metadata": {
        "colab": {
          "base_uri": "https://localhost:8080/"
        },
        "id": "kgKt4KhynmMe",
        "outputId": "a84db34c-fe1b-4f2f-819e-785eb14a3aa4"
      },
      "execution_count": 70,
      "outputs": [
        {
          "output_type": "execute_result",
          "data": {
            "text/plain": [
              "SVR()"
            ]
          },
          "metadata": {},
          "execution_count": 70
        }
      ]
    },
    {
      "cell_type": "code",
      "source": [
        "regressor_svm.score(x,targetY1)\n",
        "regressor_svm2.score(x,targetY2)"
      ],
      "metadata": {
        "colab": {
          "base_uri": "https://localhost:8080/"
        },
        "id": "tWBuqTp6osN8",
        "outputId": "4efb943b-114b-4c2e-d18c-e0fa7e5b12a3"
      },
      "execution_count": 73,
      "outputs": [
        {
          "output_type": "execute_result",
          "data": {
            "text/plain": [
              "0.2624617377486791"
            ]
          },
          "metadata": {},
          "execution_count": 73
        }
      ]
    },
    {
      "cell_type": "markdown",
      "source": [
        "Part 1.3 "
      ],
      "metadata": {
        "id": "t_aX42Zu6xPM"
      }
    },
    {
      "cell_type": "code",
      "source": [
        "from numpy.lib.shape_base import split\n",
        "from sklearn.svm import SVC\n",
        "from sklearn.model_selection import train_test_split\n",
        "from sklearn.metrics import accuracy_score\n",
        "from numpy.ma.core import reshape\n",
        "from sklearn.base import ClassifierMixin"
      ],
      "metadata": {
        "id": "yk-fx9dr6wRT"
      },
      "execution_count": 10,
      "outputs": []
    },
    {
      "cell_type": "code",
      "source": [
        "x_train, xtest, ytrain, ytest = train_test_split(scaled_inputs, scaled_targets, test_size=0.3)"
      ],
      "metadata": {
        "id": "b_fJIvNd7YW5"
      },
      "execution_count": 11,
      "outputs": []
    },
    {
      "cell_type": "code",
      "source": [
        "#making predictions for models \n",
        "#for training\n",
        "y_pred_regressor_tr = regressor.predict(x_train)\n",
        "y_pred_regressor_NN_tr = regressor_NN.predict(x_train)\n",
        "#y_pred_regressor_svm_tr = regressor_svm.predict(x_train)\n",
        "\n",
        "#for testing\n",
        "\n",
        "y_pred_regressor = regressor.predict(xtest)\n",
        "y_pred_regressor_NN = regressor_NN.predict(xtest)\n",
        "#y_pred_regressor_svm = regressor_svm.predict(xtest)"
      ],
      "metadata": {
        "id": "gd2cUjOgQa7C"
      },
      "execution_count": 37,
      "outputs": []
    },
    {
      "cell_type": "code",
      "source": [
        "#Calculating MSE\n",
        "from sklearn.metrics import mean_absolute_error\n",
        "\n",
        "#for training\n",
        "mse_regressor_tr = mean_absolute_error(ytrain, y_pred_regressor_tr)\n",
        "mse_regressor_NN_tr = mean_absolute_error(ytrain, y_pred_regressor_NN_tr)\n",
        "#mse_regressor_svm_tr = mean_absolute_error(ytrain, y_pred_regressor_svm_tr)\n",
        "\n",
        "#for testing\n",
        "mse_regressor = mean_absolute_error(ytest, y_pred_regressor)\n",
        "mse_regressor_NN = mean_absolute_error(ytest, y_pred_regressor_NN)\n",
        "#mse_regressor_svm = mean_absolute_error(ytest, y_pred_regressor_svm)\n"
      ],
      "metadata": {
        "id": "owIVbqa1R2HP"
      },
      "execution_count": 38,
      "outputs": []
    },
    {
      "cell_type": "code",
      "source": [
        "print(f\"Testing MSE of Random Forest is {mse_regressor}\")\n",
        "print(f\"Training MSE of Random Forest is {mse_regressor_tr}\")\n",
        "print()\n",
        "\n",
        "print(f\"Training MSE of Neural Network is {mse_regressor_NN_tr}\")\n",
        "print(f\"Testing MSE of Neural Network is {mse_regressor_NN}\")\n",
        "print()\n",
        "\n",
        "#print(f\"Training MSE of Support Vector is {mse_regressor_svm_tr}\")\n",
        "#print(f\"Testing MSE of Support Vector is {mse_regressor_svm}\")"
      ],
      "metadata": {
        "id": "7PdB2MUWinXA"
      },
      "execution_count": null,
      "outputs": []
    },
    {
      "cell_type": "code",
      "source": [
        "import matplotlib.pyplot as plt\n",
        "plt.title(\"BOXPLOT TESTING\")\n",
        "plt.boxplot([mse_regressor, mse_regressor_tr])\n",
        "plt.show()"
      ],
      "metadata": {
        "id": "U2_6tqAi1jOO",
        "outputId": "d1f261c4-b1f5-49ce-c442-151e6c1afdd7",
        "colab": {
          "base_uri": "https://localhost:8080/",
          "height": 281
        }
      },
      "execution_count": 55,
      "outputs": [
        {
          "output_type": "display_data",
          "data": {
            "text/plain": [
              "<Figure size 432x288 with 1 Axes>"
            ],
            "image/png": "[encoded data removed]"
          },
          "metadata": {
            "needs_background": "light"
          }
        }
      ]
    },
    {
      "cell_type": "markdown",
      "source": [
        ""
      ],
      "metadata": {
        "id": "pG87OsOa2A__"
      }
    },
    {
      "cell_type": "markdown",
      "source": [
        "Part 2 \n"
      ],
      "metadata": {
        "id": "KqCNGlgozvk9"
      }
    },
    {
      "cell_type": "code",
      "source": [
        "list = []\n",
        "f = open(\"Modules.txt\", 'r')\n",
        "for line in f: list.append(line.split(\"|\"))\n",
        "f.close()\n",
        "print(list)"
      ],
      "metadata": {
        "id": "y8KxQgNYzu-I"
      },
      "execution_count": null,
      "outputs": []
    }
  ]
}